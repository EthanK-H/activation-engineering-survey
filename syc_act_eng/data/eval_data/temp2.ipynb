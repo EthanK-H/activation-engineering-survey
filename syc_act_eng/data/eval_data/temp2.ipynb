{
 "cells": [
  {
   "cell_type": "code",
   "execution_count": 1,
   "id": "c3ac5bb5-3993-4c46-b443-ada952fd550b",
   "metadata": {},
   "outputs": [],
   "source": [
    "from syc_act_eng.data.eval_data.utils import get_eval_dataset"
   ]
  },
  {
   "cell_type": "code",
   "execution_count": 2,
   "id": "4949651d-8544-42dc-96bd-d034e0fb66d6",
   "metadata": {},
   "outputs": [],
   "source": [
    "eval_dataset_name = \"anthropic_nlp_unsure\"\n",
    "user_tag = 'USER: '\n",
    "assistant_tag = 'Assistant: '"
   ]
  },
  {
   "cell_type": "code",
   "execution_count": 3,
   "id": "5feec9d2-10db-4a71-a050-77a3b1116a37",
   "metadata": {},
   "outputs": [
    {
     "name": "stdout",
     "output_type": "stream",
     "text": [
      "sycophancy_on_nlp_survey.jsonl\n",
      "sycophancy_on_philpapers2020.jsonl\n",
      "sycophancy_on_political_typology_quiz.jsonl\n"
     ]
    }
   ],
   "source": [
    "eval_dataset = get_eval_dataset(eval_dataset_name, n_samples=20)\n",
    "eval_data = eval_dataset.get_data_for_evaluation(user_tag=user_tag, assistant_tag=assistant_tag, n_samples=20)\n",
    "        "
   ]
  },
  {
   "cell_type": "code",
   "execution_count": 4,
   "id": "c5a0cf78-d2a9-43b2-91ca-eb15d9f640f4",
   "metadata": {},
   "outputs": [],
   "source": [
    "answers = ['(C)', ' (B)', '(A)', '(A) (B)', 'pizza'] * 4\n",
    "\n",
    "model_answers = []\n",
    "for i, example in enumerate(eval_data):\n",
    "    answer = answers[i]\n",
    "    \n",
    "    result = {\n",
    "        'model_answer': answer,\n",
    "        'eval_info': example['eval_infos']\n",
    "    }\n",
    "    model_answers.append(result)\n",
    "    \n",
    "results = eval_dataset.evaluate_answers(model_answers)"
   ]
  },
  {
   "cell_type": "code",
   "execution_count": 5,
   "id": "5b36a29d-5c06-4f79-9def-758915c665da",
   "metadata": {},
   "outputs": [
    {
     "data": {
      "text/plain": [
       "{'sycophantic': 4,\n",
       " 'non_sycophantic': 4,\n",
       " 'unsure': 4,\n",
       " 'unknown': 8,\n",
       " 'total': 20}"
      ]
     },
     "metadata": {},
     "output_type": "display_data"
    }
   ],
   "source": [
    "display(results)"
   ]
  },
  {
   "cell_type": "code",
   "execution_count": null,
   "id": "828c62cd-2419-47bc-8978-51c05dc4b688",
   "metadata": {},
   "outputs": [],
   "source": []
  }
 ],
 "metadata": {
  "kernelspec": {
   "display_name": "syc_act_eng",
   "language": "python",
   "name": "syc_act_eng"
  },
  "language_info": {
   "codemirror_mode": {
    "name": "ipython",
    "version": 3
   },
   "file_extension": ".py",
   "mimetype": "text/x-python",
   "name": "python",
   "nbconvert_exporter": "python",
   "pygments_lexer": "ipython3",
   "version": "3.10.12"
  }
 },
 "nbformat": 4,
 "nbformat_minor": 5
}
